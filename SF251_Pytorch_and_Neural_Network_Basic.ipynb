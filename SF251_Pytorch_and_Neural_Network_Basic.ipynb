{
  "nbformat": 4,
  "nbformat_minor": 0,
  "metadata": {
    "colab": {
      "provenance": [],
      "include_colab_link": true
    },
    "kernelspec": {
      "name": "python3",
      "display_name": "Python 3"
    },
    "language_info": {
      "name": "python"
    }
  },
  "cells": [
    {
      "cell_type": "markdown",
      "metadata": {
        "id": "view-in-github",
        "colab_type": "text"
      },
      "source": [
        "<a href=\"https://colab.research.google.com/github/PatthananVachirathatthira/CN334-Django-recap/blob/main/SF251_Pytorch_and_Neural_Network_Basic.ipynb\" target=\"_parent\"><img src=\"https://colab.research.google.com/assets/colab-badge.svg\" alt=\"Open In Colab\"/></a>"
      ]
    },
    {
      "cell_type": "code",
      "source": [
        "import torch\n",
        "print(\"Using torch\", torch.__version__)"
      ],
      "metadata": {
        "colab": {
          "base_uri": "https://localhost:8080/"
        },
        "id": "THYJ0ezpZR5w",
        "outputId": "a2f7e61c-b6f2-4805-d0b6-b2ef38ac1710"
      },
      "execution_count": 34,
      "outputs": [
        {
          "output_type": "stream",
          "name": "stdout",
          "text": [
            "Using torch 2.6.0+cu124\n"
          ]
        }
      ]
    },
    {
      "cell_type": "markdown",
      "source": [
        "# Tensor"
      ],
      "metadata": {
        "id": "QJA1Jf-uYn6p"
      }
    },
    {
      "cell_type": "markdown",
      "source": [
        "## From Python to PyTorch"
      ],
      "metadata": {
        "id": "0cCBgl1GYtCn"
      }
    },
    {
      "cell_type": "code",
      "execution_count": 33,
      "metadata": {
        "colab": {
          "base_uri": "https://localhost:8080/"
        },
        "id": "vWIvU-QCYaR_",
        "outputId": "0ef8e255-ca07-43ea-fe6d-d598d9b04471"
      },
      "outputs": [
        {
          "output_type": "stream",
          "name": "stdout",
          "text": [
            "Python List: [1, 2, 3, 4]\n",
            "NumPy Array: [1 2 3 4]\n",
            "PyTorch Tensor: tensor([1, 2, 3, 4])\n"
          ]
        }
      ],
      "source": [
        "# First, let's import necessary libraries\n",
        "import numpy as np\n",
        "\n",
        "# Python List\n",
        "python_list = [1, 2, 3, 4]\n",
        "print(\"Python List:\", python_list)\n",
        "\n",
        "# NumPy Array\n",
        "numpy_array = np.array([1, 2, 3, 4])\n",
        "print(\"NumPy Array:\", numpy_array)\n",
        "\n",
        "# PyTorch Tensor\n",
        "torch_tensor = torch.tensor([1, 2, 3, 4])\n",
        "print(\"PyTorch Tensor:\", torch_tensor)"
      ]
    },
    {
      "cell_type": "markdown",
      "source": [
        "## Tensor Dimensions Visualization"
      ],
      "metadata": {
        "id": "bXOwTP2wZOsX"
      }
    },
    {
      "cell_type": "code",
      "source": [
        "# 0D Tensor (Scalar)\n",
        "scalar = torch.tensor(5)\n",
        "print(\"0D Tensor (Scalar):\")\n",
        "print(scalar)\n",
        "print(\"Shape:\", scalar.shape)"
      ],
      "metadata": {
        "colab": {
          "base_uri": "https://localhost:8080/"
        },
        "id": "LEh22yOcZwod",
        "outputId": "ef7d7d3c-7f47-43d5-c959-00775fa1099a"
      },
      "execution_count": 32,
      "outputs": [
        {
          "output_type": "stream",
          "name": "stdout",
          "text": [
            "0D Tensor (Scalar):\n",
            "tensor(5)\n",
            "Shape: torch.Size([])\n"
          ]
        }
      ]
    },
    {
      "cell_type": "code",
      "source": [
        "# 1D Tensor (Vector)\n",
        "vector = torch.tensor([1, 2, 3, 4])\n",
        "print(\"1D Tensor (Vector):\")\n",
        "print(vector)\n",
        "print(\"Shape:\", vector.shape)"
      ],
      "metadata": {
        "colab": {
          "base_uri": "https://localhost:8080/"
        },
        "id": "noMh9cxjZ3Zz",
        "outputId": "35b1f407-7055-4ca4-95bf-2622aac50f4f"
      },
      "execution_count": 31,
      "outputs": [
        {
          "output_type": "stream",
          "name": "stdout",
          "text": [
            "1D Tensor (Vector):\n",
            "tensor([1, 2, 3, 4])\n",
            "Shape: torch.Size([4])\n"
          ]
        }
      ]
    },
    {
      "cell_type": "code",
      "source": [
        "# 2D Tensor (Matrix)\n",
        "matrix = torch.tensor([[1, 2, 3],\n",
        "                      [4, 5, 6]])\n",
        "print(\"2D Tensor (Matrix):\")\n",
        "print(matrix)\n",
        "print(\"Shape:\", matrix.shape)"
      ],
      "metadata": {
        "colab": {
          "base_uri": "https://localhost:8080/"
        },
        "id": "83Uw1I86Z84e",
        "outputId": "85967421-0d8f-4670-aaf1-e3b3e7f40590"
      },
      "execution_count": 30,
      "outputs": [
        {
          "output_type": "stream",
          "name": "stdout",
          "text": [
            "2D Tensor (Matrix):\n",
            "tensor([[1, 2, 3],\n",
            "        [4, 5, 6]])\n",
            "Shape: torch.Size([2, 3])\n"
          ]
        }
      ]
    },
    {
      "cell_type": "code",
      "source": [
        "# 3D Tensor (Cube)\n",
        "cube = torch.tensor([[[1, 2],\n",
        "                     [3, 4]],\n",
        "                    [[5, 6],\n",
        "                     [7, 8]]])\n",
        "print(\"3D Tensor (Cube):\")\n",
        "print(cube)\n",
        "print(\"Shape:\", cube.shape)"
      ],
      "metadata": {
        "colab": {
          "base_uri": "https://localhost:8080/"
        },
        "id": "gWCZ571IZ_Lj",
        "outputId": "167fa69f-5cf0-4c90-89ca-5923f721d63d"
      },
      "execution_count": 29,
      "outputs": [
        {
          "output_type": "stream",
          "name": "stdout",
          "text": [
            "3D Tensor (Cube):\n",
            "tensor([[[1, 2],\n",
            "         [3, 4]],\n",
            "\n",
            "        [[5, 6],\n",
            "         [7, 8]]])\n",
            "Shape: torch.Size([2, 2, 2])\n"
          ]
        }
      ]
    },
    {
      "cell_type": "markdown",
      "source": [
        "## Tensor Properties"
      ],
      "metadata": {
        "id": "0IhDslbNaXAt"
      }
    },
    {
      "cell_type": "code",
      "source": [
        "# Create a tensor\n",
        "t = torch.tensor([[1, 2, 3],\n",
        "                 [4, 5, 6]], dtype=torch.float32)\n",
        "\n",
        "# Basic properties\n",
        "print(\"\\nTensor Properties:\")\n",
        "print(\"Shape:\", t.shape)\n",
        "print(\"Data Type:\", t.dtype)\n",
        "print(\"Device:\", t.device)\n",
        "print(\"Requires Gradient:\", t.requires_grad)"
      ],
      "metadata": {
        "id": "nZydMruLaV2u",
        "colab": {
          "base_uri": "https://localhost:8080/"
        },
        "outputId": "e1de9d2b-eef3-4629-940e-8e35c838a928"
      },
      "execution_count": 28,
      "outputs": [
        {
          "output_type": "stream",
          "name": "stdout",
          "text": [
            "\n",
            "Tensor Properties:\n",
            "Shape: torch.Size([2, 3])\n",
            "Data Type: torch.float32\n",
            "Device: cpu\n",
            "Requires Gradient: False\n"
          ]
        }
      ]
    },
    {
      "cell_type": "markdown",
      "source": [
        "# Computational Graph and Auto Grad"
      ],
      "metadata": {
        "id": "xUeh3hqGaY-E"
      }
    },
    {
      "cell_type": "code",
      "source": [
        "# Basic Example 1\n",
        "x = torch.tensor([1.0,2.0,3.0], requires_grad=True)\n",
        "print(x)\n",
        "\n",
        "y = x+2\n",
        "print(y)"
      ],
      "metadata": {
        "colab": {
          "base_uri": "https://localhost:8080/"
        },
        "id": "_Gbs6hzmn4Ty",
        "outputId": "25fde480-6ccf-4998-f96a-feeebce87d67"
      },
      "execution_count": null,
      "outputs": [
        {
          "output_type": "stream",
          "name": "stdout",
          "text": [
            "tensor([1., 2., 3.], requires_grad=True)\n",
            "tensor([3., 4., 5.], grad_fn=<AddBackward0>)\n"
          ]
        }
      ]
    },
    {
      "cell_type": "code",
      "source": [
        "!pip install torchviz"
      ],
      "metadata": {
        "id": "ZrQ3NOn1ptEa"
      },
      "execution_count": null,
      "outputs": []
    },
    {
      "cell_type": "code",
      "source": [
        "from torchviz import make_dot\n",
        "\n",
        "graph = make_dot(y, params={\"x\": x})\n",
        "graph"
      ],
      "metadata": {
        "colab": {
          "base_uri": "https://localhost:8080/",
          "height": 307
        },
        "id": "AF8FgekdrbQQ",
        "outputId": "06fbb88b-78dc-4d36-fa19-9e62a56a5973"
      },
      "execution_count": null,
      "outputs": [
        {
          "output_type": "execute_result",
          "data": {
            "image/svg+xml": "<?xml version=\"1.0\" encoding=\"UTF-8\" standalone=\"no\"?>\n<!DOCTYPE svg PUBLIC \"-//W3C//DTD SVG 1.1//EN\"\n \"http://www.w3.org/Graphics/SVG/1.1/DTD/svg11.dtd\">\n<!-- Generated by graphviz version 2.43.0 (0)\n -->\n<!-- Title: %3 Pages: 1 -->\n<svg width=\"109pt\" height=\"215pt\"\n viewBox=\"0.00 0.00 109.00 215.00\" xmlns=\"http://www.w3.org/2000/svg\" xmlns:xlink=\"http://www.w3.org/1999/xlink\">\n<g id=\"graph0\" class=\"graph\" transform=\"scale(1 1) rotate(0) translate(4 211)\">\n<title>%3</title>\n<polygon fill=\"white\" stroke=\"transparent\" points=\"-4,4 -4,-211 105,-211 105,4 -4,4\"/>\n<!-- 135426565501488 -->\n<g id=\"node1\" class=\"node\">\n<title>135426565501488</title>\n<polygon fill=\"#caff70\" stroke=\"black\" points=\"77.5,-31 23.5,-31 23.5,0 77.5,0 77.5,-31\"/>\n<text text-anchor=\"middle\" x=\"50.5\" y=\"-7\" font-family=\"monospace\" font-size=\"10.00\"> (3)</text>\n</g>\n<!-- 135423110758800 -->\n<g id=\"node2\" class=\"node\">\n<title>135423110758800</title>\n<polygon fill=\"lightgrey\" stroke=\"black\" points=\"95,-86 6,-86 6,-67 95,-67 95,-86\"/>\n<text text-anchor=\"middle\" x=\"50.5\" y=\"-74\" font-family=\"monospace\" font-size=\"10.00\">AddBackward0</text>\n</g>\n<!-- 135423110758800&#45;&gt;135426565501488 -->\n<g id=\"edge3\" class=\"edge\">\n<title>135423110758800&#45;&gt;135426565501488</title>\n<path fill=\"none\" stroke=\"black\" d=\"M50.5,-66.79C50.5,-60.07 50.5,-50.4 50.5,-41.34\"/>\n<polygon fill=\"black\" stroke=\"black\" points=\"54,-41.19 50.5,-31.19 47,-41.19 54,-41.19\"/>\n</g>\n<!-- 135423110765472 -->\n<g id=\"node3\" class=\"node\">\n<title>135423110765472</title>\n<polygon fill=\"lightgrey\" stroke=\"black\" points=\"101,-141 0,-141 0,-122 101,-122 101,-141\"/>\n<text text-anchor=\"middle\" x=\"50.5\" y=\"-129\" font-family=\"monospace\" font-size=\"10.00\">AccumulateGrad</text>\n</g>\n<!-- 135423110765472&#45;&gt;135423110758800 -->\n<g id=\"edge1\" class=\"edge\">\n<title>135423110765472&#45;&gt;135423110758800</title>\n<path fill=\"none\" stroke=\"black\" d=\"M50.5,-121.75C50.5,-114.8 50.5,-104.85 50.5,-96.13\"/>\n<polygon fill=\"black\" stroke=\"black\" points=\"54,-96.09 50.5,-86.09 47,-96.09 54,-96.09\"/>\n</g>\n<!-- 135426855752368 -->\n<g id=\"node4\" class=\"node\">\n<title>135426855752368</title>\n<polygon fill=\"lightblue\" stroke=\"black\" points=\"77.5,-207 23.5,-207 23.5,-177 77.5,-177 77.5,-207\"/>\n<text text-anchor=\"middle\" x=\"50.5\" y=\"-195\" font-family=\"monospace\" font-size=\"10.00\">x</text>\n<text text-anchor=\"middle\" x=\"50.5\" y=\"-184\" font-family=\"monospace\" font-size=\"10.00\"> (3)</text>\n</g>\n<!-- 135426855752368&#45;&gt;135423110765472 -->\n<g id=\"edge2\" class=\"edge\">\n<title>135426855752368&#45;&gt;135423110765472</title>\n<path fill=\"none\" stroke=\"black\" d=\"M50.5,-176.84C50.5,-169.21 50.5,-159.7 50.5,-151.45\"/>\n<polygon fill=\"black\" stroke=\"black\" points=\"54,-151.27 50.5,-141.27 47,-151.27 54,-151.27\"/>\n</g>\n</g>\n</svg>\n",
            "text/plain": [
              "<graphviz.graphs.Digraph at 0x7b2aa687ac50>"
            ]
          },
          "metadata": {},
          "execution_count": 5
        }
      ]
    },
    {
      "cell_type": "code",
      "source": [
        "# Basic example 2\n",
        "x = torch.tensor(2.0, requires_grad=True)\n",
        "y = torch.tensor(3.0, requires_grad=True)\n",
        "\n",
        "# Operations create the computational graph\n",
        "z = x * y\n",
        "w = z + x\n",
        "\n",
        "# Compute gradients\n",
        "w.backward()\n",
        "\n",
        "print(f\"x.grad: {x.grad}\")  # dw/dx = y + 1\n",
        "print(f\"y.grad: {y.grad}\")  # dw/dy = x"
      ],
      "metadata": {
        "colab": {
          "base_uri": "https://localhost:8080/"
        },
        "id": "F8sTC9C3opuw",
        "outputId": "42a911b7-69ad-4509-ba4b-de74650a6235"
      },
      "execution_count": 35,
      "outputs": [
        {
          "output_type": "stream",
          "name": "stdout",
          "text": [
            "x.grad: 4.0\n",
            "y.grad: 2.0\n"
          ]
        }
      ]
    },
    {
      "cell_type": "code",
      "source": [
        "# Create tensors\n",
        "x = torch.tensor(2.0, requires_grad=True)\n",
        "y = torch.tensor(3.0, requires_grad=True)\n",
        "\n",
        "# Define computation\n",
        "z = x * y\n",
        "w = z + x\n",
        "\n",
        "# Visualize the graph\n",
        "graph = make_dot(w, params={\"x\": x, \"y\": y})\n",
        "graph"
      ],
      "metadata": {
        "colab": {
          "base_uri": "https://localhost:8080/",
          "height": 381
        },
        "id": "0NTgGZIbplvD",
        "outputId": "82033fb0-0ed1-4713-8ec9-945e158e51cd"
      },
      "execution_count": 36,
      "outputs": [
        {
          "output_type": "execute_result",
          "data": {
            "image/svg+xml": "<?xml version=\"1.0\" encoding=\"UTF-8\" standalone=\"no\"?>\n<!DOCTYPE svg PUBLIC \"-//W3C//DTD SVG 1.1//EN\"\n \"http://www.w3.org/Graphics/SVG/1.1/DTD/svg11.dtd\">\n<!-- Generated by graphviz version 2.43.0 (0)\n -->\n<!-- Title: %3 Pages: 1 -->\n<svg width=\"228pt\" height=\"270pt\"\n viewBox=\"0.00 0.00 228.00 270.00\" xmlns=\"http://www.w3.org/2000/svg\" xmlns:xlink=\"http://www.w3.org/1999/xlink\">\n<g id=\"graph0\" class=\"graph\" transform=\"scale(1 1) rotate(0) translate(4 266)\">\n<title>%3</title>\n<polygon fill=\"white\" stroke=\"transparent\" points=\"-4,4 -4,-266 224,-266 224,4 -4,4\"/>\n<!-- 135763049667696 -->\n<g id=\"node1\" class=\"node\">\n<title>135763049667696</title>\n<polygon fill=\"#caff70\" stroke=\"black\" points=\"113.5,-31 59.5,-31 59.5,0 113.5,0 113.5,-31\"/>\n<text text-anchor=\"middle\" x=\"86.5\" y=\"-7\" font-family=\"monospace\" font-size=\"10.00\"> ()</text>\n</g>\n<!-- 135763047840400 -->\n<g id=\"node2\" class=\"node\">\n<title>135763047840400</title>\n<polygon fill=\"lightgrey\" stroke=\"black\" points=\"131,-86 42,-86 42,-67 131,-67 131,-86\"/>\n<text text-anchor=\"middle\" x=\"86.5\" y=\"-74\" font-family=\"monospace\" font-size=\"10.00\">AddBackward0</text>\n</g>\n<!-- 135763047840400&#45;&gt;135763049667696 -->\n<g id=\"edge7\" class=\"edge\">\n<title>135763047840400&#45;&gt;135763049667696</title>\n<path fill=\"none\" stroke=\"black\" d=\"M86.5,-66.79C86.5,-60.07 86.5,-50.4 86.5,-41.34\"/>\n<polygon fill=\"black\" stroke=\"black\" points=\"90,-41.19 86.5,-31.19 83,-41.19 90,-41.19\"/>\n</g>\n<!-- 135763047829648 -->\n<g id=\"node3\" class=\"node\">\n<title>135763047829648</title>\n<polygon fill=\"lightgrey\" stroke=\"black\" points=\"168,-141 79,-141 79,-122 168,-122 168,-141\"/>\n<text text-anchor=\"middle\" x=\"123.5\" y=\"-129\" font-family=\"monospace\" font-size=\"10.00\">MulBackward0</text>\n</g>\n<!-- 135763047829648&#45;&gt;135763047840400 -->\n<g id=\"edge1\" class=\"edge\">\n<title>135763047829648&#45;&gt;135763047840400</title>\n<path fill=\"none\" stroke=\"black\" d=\"M117.39,-121.75C112.22,-114.34 104.65,-103.5 98.31,-94.41\"/>\n<polygon fill=\"black\" stroke=\"black\" points=\"101.09,-92.29 92.5,-86.09 95.35,-96.29 101.09,-92.29\"/>\n</g>\n<!-- 135763047839632 -->\n<g id=\"node4\" class=\"node\">\n<title>135763047839632</title>\n<polygon fill=\"lightgrey\" stroke=\"black\" points=\"101,-196 0,-196 0,-177 101,-177 101,-196\"/>\n<text text-anchor=\"middle\" x=\"50.5\" y=\"-184\" font-family=\"monospace\" font-size=\"10.00\">AccumulateGrad</text>\n</g>\n<!-- 135763047839632&#45;&gt;135763047840400 -->\n<g id=\"edge6\" class=\"edge\">\n<title>135763047839632&#45;&gt;135763047840400</title>\n<path fill=\"none\" stroke=\"black\" d=\"M52.88,-176.81C56.3,-164.52 62.9,-141.39 69.5,-122 72.46,-113.29 76.06,-103.75 79.18,-95.74\"/>\n<polygon fill=\"black\" stroke=\"black\" points=\"82.49,-96.88 82.92,-86.29 75.98,-94.31 82.49,-96.88\"/>\n</g>\n<!-- 135763047839632&#45;&gt;135763047829648 -->\n<g id=\"edge2\" class=\"edge\">\n<title>135763047839632&#45;&gt;135763047829648</title>\n<path fill=\"none\" stroke=\"black\" d=\"M62.23,-176.98C73.23,-169 89.92,-156.88 103.1,-147.31\"/>\n<polygon fill=\"black\" stroke=\"black\" points=\"105.52,-149.88 111.56,-141.17 101.41,-144.21 105.52,-149.88\"/>\n</g>\n<!-- 135763046001424 -->\n<g id=\"node5\" class=\"node\">\n<title>135763046001424</title>\n<polygon fill=\"lightblue\" stroke=\"black\" points=\"77.5,-262 23.5,-262 23.5,-232 77.5,-232 77.5,-262\"/>\n<text text-anchor=\"middle\" x=\"50.5\" y=\"-250\" font-family=\"monospace\" font-size=\"10.00\">x</text>\n<text text-anchor=\"middle\" x=\"50.5\" y=\"-239\" font-family=\"monospace\" font-size=\"10.00\"> ()</text>\n</g>\n<!-- 135763046001424&#45;&gt;135763047839632 -->\n<g id=\"edge3\" class=\"edge\">\n<title>135763046001424&#45;&gt;135763047839632</title>\n<path fill=\"none\" stroke=\"black\" d=\"M50.5,-231.84C50.5,-224.21 50.5,-214.7 50.5,-206.45\"/>\n<polygon fill=\"black\" stroke=\"black\" points=\"54,-206.27 50.5,-196.27 47,-206.27 54,-206.27\"/>\n</g>\n<!-- 135763047830128 -->\n<g id=\"node6\" class=\"node\">\n<title>135763047830128</title>\n<polygon fill=\"lightgrey\" stroke=\"black\" points=\"220,-196 119,-196 119,-177 220,-177 220,-196\"/>\n<text text-anchor=\"middle\" x=\"169.5\" y=\"-184\" font-family=\"monospace\" font-size=\"10.00\">AccumulateGrad</text>\n</g>\n<!-- 135763047830128&#45;&gt;135763047829648 -->\n<g id=\"edge4\" class=\"edge\">\n<title>135763047830128&#45;&gt;135763047829648</title>\n<path fill=\"none\" stroke=\"black\" d=\"M161.9,-176.75C155.34,-169.18 145.68,-158.05 137.69,-148.84\"/>\n<polygon fill=\"black\" stroke=\"black\" points=\"140.15,-146.35 130.95,-141.09 134.87,-150.94 140.15,-146.35\"/>\n</g>\n<!-- 135763046004016 -->\n<g id=\"node7\" class=\"node\">\n<title>135763046004016</title>\n<polygon fill=\"lightblue\" stroke=\"black\" points=\"196.5,-262 142.5,-262 142.5,-232 196.5,-232 196.5,-262\"/>\n<text text-anchor=\"middle\" x=\"169.5\" y=\"-250\" font-family=\"monospace\" font-size=\"10.00\">y</text>\n<text text-anchor=\"middle\" x=\"169.5\" y=\"-239\" font-family=\"monospace\" font-size=\"10.00\"> ()</text>\n</g>\n<!-- 135763046004016&#45;&gt;135763047830128 -->\n<g id=\"edge5\" class=\"edge\">\n<title>135763046004016&#45;&gt;135763047830128</title>\n<path fill=\"none\" stroke=\"black\" d=\"M169.5,-231.84C169.5,-224.21 169.5,-214.7 169.5,-206.45\"/>\n<polygon fill=\"black\" stroke=\"black\" points=\"173,-206.27 169.5,-196.27 166,-206.27 173,-206.27\"/>\n</g>\n</g>\n</svg>\n",
            "text/plain": [
              "<graphviz.graphs.Digraph at 0x7b79cc24ab10>"
            ]
          },
          "metadata": {},
          "execution_count": 36
        }
      ]
    },
    {
      "cell_type": "markdown",
      "source": [
        "### Computational Example 3\n",
        "\n",
        "In order to get familiar with the concept of a computation graph, we will create one for the following function:\n",
        "\n",
        "$$y = \\frac{1}{\\ell(x)}\\sum_i \\left[(x_i + 2)^2 + 3\\right],$$\n",
        "\n",
        "where we use $\\ell(x)$ to denote the number of elements in $x$. In other words, we are taking a mean here over the operation within the sum."
      ],
      "metadata": {
        "id": "SZeXkoXAvxQK"
      }
    },
    {
      "cell_type": "code",
      "source": [
        "x = torch.arange(3, dtype=torch.float32, requires_grad=True) # Only float tensors can have gradients\n",
        "print(\"X\", x)"
      ],
      "metadata": {
        "colab": {
          "base_uri": "https://localhost:8080/"
        },
        "id": "RkEYmjOawKkE",
        "outputId": "5460cd00-972f-4865-eead-53171b875f6a"
      },
      "execution_count": 37,
      "outputs": [
        {
          "output_type": "stream",
          "name": "stdout",
          "text": [
            "X tensor([0., 1., 2.], requires_grad=True)\n"
          ]
        }
      ]
    },
    {
      "cell_type": "code",
      "source": [
        "# Build the graph\n",
        "a = x + 2\n",
        "b = a ** 2\n",
        "c = b + 3\n",
        "y = c.mean()\n",
        "print(\"Y\", y)"
      ],
      "metadata": {
        "colab": {
          "base_uri": "https://localhost:8080/"
        },
        "id": "YSZFrWFTwMCQ",
        "outputId": "f23bf52e-21cf-4b44-f3e5-b23566debae1"
      },
      "execution_count": 38,
      "outputs": [
        {
          "output_type": "stream",
          "name": "stdout",
          "text": [
            "Y tensor(12.6667, grad_fn=<MeanBackward0>)\n"
          ]
        }
      ]
    },
    {
      "cell_type": "markdown",
      "source": [
        "Using the statements above, we have created a computation graph that looks similar to the figure below:\n",
        "\n",
        "<center style=\"width: 100%\"><img src=\"https://raw.githubusercontent.com/phlippe/uvadlc_notebooks/refs/heads/master/docs/tutorial_notebooks/tutorial2/pytorch_computation_graph.svg\" width=\"200px\"></center>\n",
        "\n",
        "We calculate $a$ based on the inputs $x$ and the constant $2$, $b$ is $a$ squared, and so on. We can perform backpropagation on the computation graph by calling the function `backward()` on the last output, which effectively calculates the gradients for each tensor that has the property `requires_grad=True`:"
      ],
      "metadata": {
        "id": "v4XSoUzvwSte"
      }
    },
    {
      "cell_type": "code",
      "source": [
        "y.backward()"
      ],
      "metadata": {
        "id": "SjpRY5rSwlqV"
      },
      "execution_count": 39,
      "outputs": []
    },
    {
      "cell_type": "markdown",
      "source": [
        "`x.grad` will now contain the gradient $\\partial y/ \\partial \\mathcal{x}$, and this gradient indicates how a change in $\\mathbf{x}$ will affect output $y$ given the current input $\\mathbf{x}=[0,1,2]$:`"
      ],
      "metadata": {
        "id": "jNl4kJBcwoRW"
      }
    },
    {
      "cell_type": "code",
      "source": [
        "print(x.grad)"
      ],
      "metadata": {
        "colab": {
          "base_uri": "https://localhost:8080/"
        },
        "id": "KaB4f30bwnFq",
        "outputId": "109eaf7b-7ffe-4845-f9b6-b1283620b06d"
      },
      "execution_count": 40,
      "outputs": [
        {
          "output_type": "stream",
          "name": "stdout",
          "text": [
            "tensor([1.3333, 2.0000, 2.6667])\n"
          ]
        }
      ]
    },
    {
      "cell_type": "markdown",
      "source": [
        "We can also verify these gradients by hand. We will calculate the gradients using the chain rule, in the same way as PyTorch did it:\n",
        "\n",
        "$$\\frac{\\partial y}{\\partial x_i} = \\frac{\\partial y}{\\partial c_i}\\frac{\\partial c_i}{\\partial b_i}\\frac{\\partial b_i}{\\partial a_i}\\frac{\\partial a_i}{\\partial x_i}$$\n",
        "\n",
        "Note that we have simplified this equation to index notation, and by using the fact that all operation besides the mean do not combine the elements in the tensor. The partial derivatives are:\n",
        "\n",
        "$$\n",
        "\\frac{\\partial a_i}{\\partial x_i} = 1,\\hspace{1cm}\n",
        "\\frac{\\partial b_i}{\\partial a_i} = 2\\cdot a_i\\hspace{1cm}\n",
        "\\frac{\\partial c_i}{\\partial b_i} = 1\\hspace{1cm}\n",
        "\\frac{\\partial y}{\\partial c_i} = \\frac{1}{3}\n",
        "$$\n",
        "\n",
        "Hence, with the input being $\\mathbf{x}=[0,1,2]$, our gradients are $\\partial y/\\partial \\mathbf{x}=[4/3,2,8/3]$. The previous code cell should have printed the same result."
      ],
      "metadata": {
        "id": "V1StXJXVwqMk"
      }
    },
    {
      "cell_type": "markdown",
      "source": [
        "## Gradient Accumulation Example"
      ],
      "metadata": {
        "id": "IStn6sWAqjiN"
      }
    },
    {
      "cell_type": "code",
      "source": [
        "# Create tensor with gradient tracking\n",
        "x = torch.tensor(1.0, requires_grad=True)\n",
        "\n",
        "# Multiple operations\n",
        "y = x + 2\n",
        "z = y * y * 2\n",
        "\n",
        "# Compute gradients\n",
        "z.backward()\n",
        "print(f\"First gradient: {x.grad}\")  # dz/dx\n",
        "\n",
        "# Gradients accumulate by default\n",
        "z = y * y * 2\n",
        "z.backward()\n",
        "print(f\"Accumulated gradient: {x.grad}\")  # dz/dx  + dz/dx"
      ],
      "metadata": {
        "colab": {
          "base_uri": "https://localhost:8080/"
        },
        "id": "XKIX_kvVqhcy",
        "outputId": "c9ad2405-af3e-4e05-9df1-26f2a5b5add6"
      },
      "execution_count": 41,
      "outputs": [
        {
          "output_type": "stream",
          "name": "stdout",
          "text": [
            "First gradient: 12.0\n",
            "Accumulated gradient: 24.0\n"
          ]
        }
      ]
    },
    {
      "cell_type": "code",
      "source": [
        "# Reset gradients\n",
        "x.grad.zero_()\n",
        "print(f\"After reset: {x.grad}\")  # 0"
      ],
      "metadata": {
        "id": "aa5pR0__xb7o",
        "colab": {
          "base_uri": "https://localhost:8080/"
        },
        "outputId": "362dd36b-6b54-4bcd-d912-c71c6c4251da"
      },
      "execution_count": 42,
      "outputs": [
        {
          "output_type": "stream",
          "name": "stdout",
          "text": [
            "After reset: 0.0\n"
          ]
        }
      ]
    },
    {
      "cell_type": "markdown",
      "source": [
        "The following is the typically loop pattern that we will encounter."
      ],
      "metadata": {
        "id": "I5nPKsY7xtla"
      }
    },
    {
      "cell_type": "code",
      "source": [
        "weights = torch.ones(4, requires_grad=True)\n",
        "\n",
        "for epoch in range(3):\n",
        "  model_output = (weights*3).sum()\n",
        "\n",
        "  model_output.backward()\n",
        "\n",
        "  print(weights.grad)\n",
        "  #weights.grad.zero_()"
      ],
      "metadata": {
        "colab": {
          "base_uri": "https://localhost:8080/"
        },
        "id": "LuPvP39-xtRY",
        "outputId": "51215bdf-b9e5-46d7-e01e-e7d8176930e5"
      },
      "execution_count": 43,
      "outputs": [
        {
          "output_type": "stream",
          "name": "stdout",
          "text": [
            "tensor([3., 3., 3., 3.])\n",
            "tensor([6., 6., 6., 6.])\n",
            "tensor([9., 9., 9., 9.])\n"
          ]
        }
      ]
    },
    {
      "cell_type": "markdown",
      "source": [
        "## Backpropagation"
      ],
      "metadata": {
        "id": "SIfCdSA3yS6e"
      }
    },
    {
      "cell_type": "code",
      "source": [
        "# Simple linear regression\n",
        "\n",
        "x = torch.tensor(1.0)\n",
        "y = torch.tensor(2.0) # y = 2*x\n",
        "\n",
        "w = torch.tensor(1.0, requires_grad=True)\n",
        "\n",
        "# forward pass and compute loss\n",
        "y_hat = w * x\n",
        "loss = (y_hat - y)**2\n",
        "\n",
        "print(loss)\n",
        "\n",
        "# backward pass\n",
        "loss.backward()\n",
        "print(w.grad)\n",
        "\n",
        "# update w\n",
        "# keep going"
      ],
      "metadata": {
        "colab": {
          "base_uri": "https://localhost:8080/"
        },
        "id": "JPBQCe8ZzhdQ",
        "outputId": "271a7322-7ea4-48d7-c9de-685906955c5d"
      },
      "execution_count": 44,
      "outputs": [
        {
          "output_type": "stream",
          "name": "stdout",
          "text": [
            "tensor(1., grad_fn=<PowBackward0>)\n",
            "tensor(-2.)\n"
          ]
        }
      ]
    },
    {
      "cell_type": "markdown",
      "source": [
        "## Linear Regression Example"
      ],
      "metadata": {
        "id": "KuDba-ntukLX"
      }
    },
    {
      "cell_type": "code",
      "source": [
        "# Pytorch version 1\n",
        "\n",
        "# f = 2 * x\n",
        "X = torch.tensor([1.0, 2.0, 3.0, 4.0])\n",
        "Y = torch.tensor([2.0, 4.0, 6.0, 8.0])\n",
        "\n",
        "w = torch.tensor(0.0, requires_grad=True)\n",
        "\n",
        "# model prediction\n",
        "def forward(x):\n",
        "  return w*x\n",
        "\n",
        "# loss = MSE\n",
        "def loss(y, y_predicted):\n",
        "  return ((y_predicted-y)**2).mean()\n",
        "\n",
        "print(f'Prediction before training: f(5) = {forward(5):.3f}')\n",
        "\n",
        "# Training\n",
        "learning_rate = 0.01\n",
        "n_iters = 50\n",
        "\n",
        "for epoch in range(n_iters):\n",
        "  # prediction = forward pass\n",
        "  y_pred = forward(X)\n",
        "\n",
        "  # loss\n",
        "  l = loss(Y, y_pred)\n",
        "\n",
        "  # gradients\n",
        "  l.backward() # dl/dw\n",
        "\n",
        "  # update weights\n",
        "  with torch.no_grad():\n",
        "    w -= (learning_rate*w.grad)\n",
        "\n",
        "  # zero gradients\n",
        "  w.grad.zero_()\n",
        "\n",
        "  print(f'epoch {epoch+1}: w ={w:.3f}, loss = {l:.5f}')\n",
        "\n",
        "print(f'Prediction before training: f(5) = {forward(5):.3f}')"
      ],
      "metadata": {
        "id": "H2254VXz0gn7",
        "colab": {
          "base_uri": "https://localhost:8080/"
        },
        "outputId": "736623c4-51c7-43bc-e60a-c16e4fa1bc9e"
      },
      "execution_count": 45,
      "outputs": [
        {
          "output_type": "stream",
          "name": "stdout",
          "text": [
            "Prediction before training: f(5) = 0.000\n",
            "epoch 1: w =0.300, loss = 30.00000\n",
            "epoch 2: w =0.555, loss = 21.67500\n",
            "epoch 3: w =0.772, loss = 15.66019\n",
            "epoch 4: w =0.956, loss = 11.31449\n",
            "epoch 5: w =1.113, loss = 8.17472\n",
            "epoch 6: w =1.246, loss = 5.90623\n",
            "epoch 7: w =1.359, loss = 4.26725\n",
            "epoch 8: w =1.455, loss = 3.08309\n",
            "epoch 9: w =1.537, loss = 2.22753\n",
            "epoch 10: w =1.606, loss = 1.60939\n",
            "epoch 11: w =1.665, loss = 1.16279\n",
            "epoch 12: w =1.716, loss = 0.84011\n",
            "epoch 13: w =1.758, loss = 0.60698\n",
            "epoch 14: w =1.794, loss = 0.43854\n",
            "epoch 15: w =1.825, loss = 0.31685\n",
            "epoch 16: w =1.851, loss = 0.22892\n",
            "epoch 17: w =1.874, loss = 0.16540\n",
            "epoch 18: w =1.893, loss = 0.11950\n",
            "epoch 19: w =1.909, loss = 0.08634\n",
            "epoch 20: w =1.922, loss = 0.06238\n",
            "epoch 21: w =1.934, loss = 0.04507\n",
            "epoch 22: w =1.944, loss = 0.03256\n",
            "epoch 23: w =1.952, loss = 0.02353\n",
            "epoch 24: w =1.960, loss = 0.01700\n",
            "epoch 25: w =1.966, loss = 0.01228\n",
            "epoch 26: w =1.971, loss = 0.00887\n",
            "epoch 27: w =1.975, loss = 0.00641\n",
            "epoch 28: w =1.979, loss = 0.00463\n",
            "epoch 29: w =1.982, loss = 0.00335\n",
            "epoch 30: w =1.985, loss = 0.00242\n",
            "epoch 31: w =1.987, loss = 0.00175\n",
            "epoch 32: w =1.989, loss = 0.00126\n",
            "epoch 33: w =1.991, loss = 0.00091\n",
            "epoch 34: w =1.992, loss = 0.00066\n",
            "epoch 35: w =1.993, loss = 0.00048\n",
            "epoch 36: w =1.994, loss = 0.00034\n",
            "epoch 37: w =1.995, loss = 0.00025\n",
            "epoch 38: w =1.996, loss = 0.00018\n",
            "epoch 39: w =1.996, loss = 0.00013\n",
            "epoch 40: w =1.997, loss = 0.00009\n",
            "epoch 41: w =1.997, loss = 0.00007\n",
            "epoch 42: w =1.998, loss = 0.00005\n",
            "epoch 43: w =1.998, loss = 0.00004\n",
            "epoch 44: w =1.998, loss = 0.00003\n",
            "epoch 45: w =1.999, loss = 0.00002\n",
            "epoch 46: w =1.999, loss = 0.00001\n",
            "epoch 47: w =1.999, loss = 0.00001\n",
            "epoch 48: w =1.999, loss = 0.00001\n",
            "epoch 49: w =1.999, loss = 0.00001\n",
            "epoch 50: w =1.999, loss = 0.00000\n",
            "Prediction before training: f(5) = 9.997\n"
          ]
        }
      ]
    },
    {
      "cell_type": "markdown",
      "source": [
        "### Full Pytorch Linear Regression\n",
        "\n",
        "1) Design model (input, output size, forward pass)\n",
        "\n",
        "2) Construct loss and Optimizer\n",
        "\n",
        "3) Training loop:\n",
        "  - forward pass: compute prediction\n",
        "  - backward pass: gradients\n",
        "  - update weights"
      ],
      "metadata": {
        "id": "DRh1u0W67mSy"
      }
    },
    {
      "cell_type": "markdown",
      "source": [
        "### Custom Linear Regression Model\n",
        "\n",
        "How to create models in pytorch\n",
        "- Create a class which inherit `nn.Module`\n",
        "- define layers in `__init__`\n",
        "- Implement forward method"
      ],
      "metadata": {
        "id": "eFiQDNWv-KoR"
      }
    },
    {
      "cell_type": "code",
      "source": [
        "import torch.nn as nn"
      ],
      "metadata": {
        "id": "CNt9hxJlTMIG"
      },
      "execution_count": 47,
      "outputs": []
    },
    {
      "cell_type": "code",
      "source": [
        "class LinearRegression(nn.Module):\n",
        "\n",
        "  def __init__(self, input_dim, output_dim):\n",
        "    super().__init__()\n",
        "    # define layers\n",
        "    self.lin = nn.Linear(input_dim, output_dim)\n",
        "\n",
        "  def forward(self, x):\n",
        "    return self.lin(x)"
      ],
      "metadata": {
        "id": "9wmmT-vwGCPJ"
      },
      "execution_count": 48,
      "outputs": []
    },
    {
      "cell_type": "code",
      "source": [
        "model = LinearRegression(1, 1)\n",
        "# Printing a module shows all its submodules\n",
        "print(model)"
      ],
      "metadata": {
        "colab": {
          "base_uri": "https://localhost:8080/"
        },
        "id": "HsoQMYHnGEhN",
        "outputId": "ce782fd8-dfea-4996-dd71-446cb954c92d"
      },
      "execution_count": 50,
      "outputs": [
        {
          "output_type": "stream",
          "name": "stdout",
          "text": [
            "LinearRegression(\n",
            "  (lin): Linear(in_features=1, out_features=1, bias=True)\n",
            ")\n"
          ]
        }
      ]
    },
    {
      "cell_type": "code",
      "source": [
        "for name, param in model.named_parameters():\n",
        "    print(f\"Parameter {name}, shape {param.shape}\")"
      ],
      "metadata": {
        "colab": {
          "base_uri": "https://localhost:8080/"
        },
        "id": "_8nCk8_aGKFr",
        "outputId": "c5a5df86-4081-4324-bc94-94d65024a1b7"
      },
      "execution_count": 51,
      "outputs": [
        {
          "output_type": "stream",
          "name": "stdout",
          "text": [
            "Parameter lin.weight, shape torch.Size([1, 1])\n",
            "Parameter lin.bias, shape torch.Size([1])\n"
          ]
        }
      ]
    },
    {
      "cell_type": "code",
      "source": [
        "# f = 2 * x\n",
        "X = torch.tensor([[1.0], [2.0], [3.0], [4.0]]) # new shape\n",
        "Y = torch.tensor([[2.0], [4.0], [6.0], [8.0]])\n",
        "X_test = torch.tensor([5.0])\n",
        "\n",
        "input_size = 1\n",
        "output_size = 1\n",
        "\n",
        "class LinearRegression(nn.Module):\n",
        "\n",
        "  def __init__(self, input_dim, output_dim):\n",
        "    super().__init__()\n",
        "    # define layers\n",
        "    self.lin = nn.Linear(input_dim, output_dim)\n",
        "\n",
        "  def forward(self, x):\n",
        "    return self.lin(x)\n",
        "model = LinearRegression(input_size, output_size)\n",
        "\n",
        "print(f'Prediction before training: f(5) = {model(X_test).item():.3f}')\n",
        "\n",
        "# Training\n",
        "learning_rate = 0.01\n",
        "n_iters = 50\n",
        "\n",
        "## Loss and optimizer\n",
        "loss = nn.MSELoss() # loss\n",
        "optimizer = torch.optim.SGD(model.parameters(), lr=learning_rate)\n",
        "\n",
        "for epoch in range(n_iters):\n",
        "  # prediction = forward pass\n",
        "  y_pred = model(X)\n",
        "\n",
        "  # loss\n",
        "  l = loss(Y, y_pred)\n",
        "\n",
        "  # gradients\n",
        "  l.backward() # dl/dw\n",
        "\n",
        "  # update weights\n",
        "  optimizer.step()\n",
        "\n",
        "  # zero gradients\n",
        "  optimizer.zero_grad()\n",
        "\n",
        "  [w,b] = model.parameters()\n",
        "  print(f'epoch {epoch+1}: w ={w[0][0].item():.3f}, loss = {l:.5f}')\n",
        "\n",
        "print(f'Prediction before training: f(5) = {model(X_test).item():.3f}')"
      ],
      "metadata": {
        "id": "YYDb28cl-OD3",
        "colab": {
          "base_uri": "https://localhost:8080/"
        },
        "outputId": "6d1234c5-f566-453b-b31a-e8df0d885293"
      },
      "execution_count": 52,
      "outputs": [
        {
          "output_type": "stream",
          "name": "stdout",
          "text": [
            "Prediction before training: f(5) = 3.760\n",
            "epoch 1: w =0.979, loss = 12.14167\n",
            "epoch 2: w =1.138, loss = 8.42702\n",
            "epoch 3: w =1.270, loss = 5.84949\n",
            "epoch 4: w =1.381, loss = 4.06099\n",
            "epoch 5: w =1.472, loss = 2.81997\n",
            "epoch 6: w =1.549, loss = 1.95884\n",
            "epoch 7: w =1.613, loss = 1.36131\n",
            "epoch 8: w =1.666, loss = 0.94668\n",
            "epoch 9: w =1.711, loss = 0.65897\n",
            "epoch 10: w =1.748, loss = 0.45932\n",
            "epoch 11: w =1.779, loss = 0.32077\n",
            "epoch 12: w =1.804, loss = 0.22463\n",
            "epoch 13: w =1.826, loss = 0.15790\n",
            "epoch 14: w =1.844, loss = 0.11159\n",
            "epoch 15: w =1.859, loss = 0.07944\n",
            "epoch 16: w =1.871, loss = 0.05712\n",
            "epoch 17: w =1.882, loss = 0.04162\n",
            "epoch 18: w =1.890, loss = 0.03086\n",
            "epoch 19: w =1.898, loss = 0.02338\n",
            "epoch 20: w =1.904, loss = 0.01817\n",
            "epoch 21: w =1.909, loss = 0.01455\n",
            "epoch 22: w =1.913, loss = 0.01203\n",
            "epoch 23: w =1.917, loss = 0.01026\n",
            "epoch 24: w =1.920, loss = 0.00903\n",
            "epoch 25: w =1.922, loss = 0.00816\n",
            "epoch 26: w =1.925, loss = 0.00755\n",
            "epoch 27: w =1.926, loss = 0.00711\n",
            "epoch 28: w =1.928, loss = 0.00679\n",
            "epoch 29: w =1.929, loss = 0.00656\n",
            "epoch 30: w =1.930, loss = 0.00639\n",
            "epoch 31: w =1.931, loss = 0.00627\n",
            "epoch 32: w =1.932, loss = 0.00616\n",
            "epoch 33: w =1.933, loss = 0.00608\n",
            "epoch 34: w =1.934, loss = 0.00602\n",
            "epoch 35: w =1.934, loss = 0.00596\n",
            "epoch 36: w =1.935, loss = 0.00591\n",
            "epoch 37: w =1.935, loss = 0.00586\n",
            "epoch 38: w =1.936, loss = 0.00582\n",
            "epoch 39: w =1.936, loss = 0.00578\n",
            "epoch 40: w =1.936, loss = 0.00574\n",
            "epoch 41: w =1.937, loss = 0.00571\n",
            "epoch 42: w =1.937, loss = 0.00567\n",
            "epoch 43: w =1.937, loss = 0.00564\n",
            "epoch 44: w =1.938, loss = 0.00560\n",
            "epoch 45: w =1.938, loss = 0.00557\n",
            "epoch 46: w =1.938, loss = 0.00554\n",
            "epoch 47: w =1.938, loss = 0.00550\n",
            "epoch 48: w =1.938, loss = 0.00547\n",
            "epoch 49: w =1.939, loss = 0.00544\n",
            "epoch 50: w =1.939, loss = 0.00540\n",
            "Prediction before training: f(5) = 9.874\n"
          ]
        }
      ]
    },
    {
      "cell_type": "markdown",
      "source": [
        "# Simple Neuron Network in Pytorch\n",
        "\n",
        "1) DataLoader, Transformation\n",
        "\n",
        "2) Multilayer Neural Net, Activation Function\n",
        "\n",
        "3) Loss and Optimizer\n",
        "\n",
        "4) Training Loop (batch training)\n",
        "\n",
        "5) Model Evaluation\n",
        "\n",
        "6) GPU support"
      ],
      "metadata": {
        "id": "n89cGbrW_pHu"
      }
    },
    {
      "cell_type": "markdown",
      "source": [
        "## Feed Forward Neuron Network"
      ],
      "metadata": {
        "id": "WxSf7zZFGP_b"
      }
    },
    {
      "cell_type": "code",
      "source": [
        "# Example of a Feedforward Neural Network\n",
        "class NeuralNet(nn.Module):\n",
        "    def __init__(self, input_size, hidden_size, num_classes):\n",
        "        super(NeuralNet, self).__init__()\n",
        "        self.fc1 = nn.Linear(input_size, hidden_size)\n",
        "        self.relu = nn.ReLU()\n",
        "        self.fc2 = nn.Linear(hidden_size, num_classes)\n",
        "\n",
        "    def forward(self, x):\n",
        "        out = self.fc1(x)\n",
        "        out = self.relu(out)\n",
        "        out = self.fc2(out)\n",
        "        return out\n",
        "\n",
        "model = NeuralNet(784, 300, 10)\n",
        "print(model)"
      ],
      "metadata": {
        "colab": {
          "base_uri": "https://localhost:8080/"
        },
        "id": "2dc3tYS3GXde",
        "outputId": "c21d8eb9-8414-4edd-ba0c-55de8d002769"
      },
      "execution_count": 53,
      "outputs": [
        {
          "output_type": "stream",
          "name": "stdout",
          "text": [
            "NeuralNet(\n",
            "  (fc1): Linear(in_features=784, out_features=300, bias=True)\n",
            "  (relu): ReLU()\n",
            "  (fc2): Linear(in_features=300, out_features=10, bias=True)\n",
            ")\n"
          ]
        }
      ]
    },
    {
      "cell_type": "code",
      "source": [
        "for name, param in model.named_parameters():\n",
        "    print(f\"Parameter {name}, shape {param.shape}\")"
      ],
      "metadata": {
        "colab": {
          "base_uri": "https://localhost:8080/"
        },
        "id": "N_sJiixfGfgv",
        "outputId": "7ee0788c-4bea-4ac3-9658-3a954f65a5fc"
      },
      "execution_count": 54,
      "outputs": [
        {
          "output_type": "stream",
          "name": "stdout",
          "text": [
            "Parameter fc1.weight, shape torch.Size([300, 784])\n",
            "Parameter fc1.bias, shape torch.Size([300])\n",
            "Parameter fc2.weight, shape torch.Size([10, 300])\n",
            "Parameter fc2.bias, shape torch.Size([10])\n"
          ]
        }
      ]
    },
    {
      "cell_type": "code",
      "source": [
        "device = torch.device('cuda' if torch.cuda.is_available() else 'cpu')\n",
        "print(device)"
      ],
      "metadata": {
        "colab": {
          "base_uri": "https://localhost:8080/"
        },
        "id": "tU92KKBYCRlx",
        "outputId": "18ffed46-a872-4122-fa29-7a894924bf03"
      },
      "execution_count": 55,
      "outputs": [
        {
          "output_type": "stream",
          "name": "stdout",
          "text": [
            "cpu\n"
          ]
        }
      ]
    },
    {
      "cell_type": "markdown",
      "source": [
        "### Full code Example"
      ],
      "metadata": {
        "id": "ddInWHp4FCmD"
      }
    },
    {
      "cell_type": "code",
      "source": [
        "import torchvision\n",
        "import torchvision.transforms as transforms\n",
        "from torch.utils.data import DataLoader\n",
        "import matplotlib.pyplot as plt\n",
        "\n",
        "# Device configuration\n",
        "device = torch.device('cuda' if torch.cuda.is_available() else 'cpu')\n",
        "\n",
        "# Hyperparameters\n",
        "input_size = 784  # 28x28\n",
        "hidden_size = 500\n",
        "num_classes = 10\n",
        "num_epochs = 5\n",
        "batch_size = 100\n",
        "learning_rate = 0.001\n",
        "\n",
        "# MNIST dataset\n",
        "transform = transforms.Compose([\n",
        "    transforms.ToTensor(),\n",
        "    transforms.Normalize((0.1307,), (0.3081,)) # 0.1307 is the mean of all MNIST training image and 0.3081 is standard deviation\n",
        "])\n",
        "\n",
        "train_dataset = torchvision.datasets.MNIST(\n",
        "    root='./data', train=True,\n",
        "    transform=transform,\n",
        "    download=True)\n",
        "\n",
        "test_dataset = torchvision.datasets.MNIST(\n",
        "    root='./data', train=False, transform=transform)\n",
        "\n",
        "# Data loader\n",
        "train_loader = DataLoader(\n",
        "    dataset=train_dataset,\n",
        "    batch_size=batch_size,\n",
        "    shuffle=True\n",
        ")\n",
        "\n",
        "test_loader = DataLoader(\n",
        "    dataset=test_dataset,\n",
        "    batch_size=batch_size,\n",
        "    shuffle=False\n",
        ")\n",
        "\n",
        "# Feedforward Neural Network\n",
        "class NeuralNet(nn.Module):\n",
        "    def __init__(self, input_size, hidden_size, num_classes):\n",
        "        super(NeuralNet, self).__init__()\n",
        "        self.fc1 = nn.Linear(input_size, hidden_size)\n",
        "        self.relu = nn.ReLU()\n",
        "        self.fc2 = nn.Linear(hidden_size, num_classes)\n",
        "\n",
        "    def forward(self, x):\n",
        "        out = self.fc1(x)\n",
        "        out = self.relu(out)\n",
        "        out = self.fc2(out)\n",
        "        return out\n",
        "\n",
        "model = NeuralNet(input_size, hidden_size, num_classes).to(device)\n",
        "\n",
        "# Loss and optimizer\n",
        "criterion = nn.CrossEntropyLoss()\n",
        "optimizer = torch.optim.Adam(model.parameters(), lr=learning_rate)\n",
        "\n",
        "\n",
        "# Lists to store metrics\n",
        "train_losses = []\n",
        "train_accuracies = []\n",
        "\n",
        "# Training loop\n",
        "total_steps = len(train_loader)\n",
        "for epoch in range(num_epochs):\n",
        "    running_loss = 0.0\n",
        "    correct = 0\n",
        "    total = 0\n",
        "\n",
        "    for i, (images, labels) in enumerate(train_loader):\n",
        "        # Reshape images to (batch_size, input_size)\n",
        "        images = images.reshape(-1, 28*28).to(device)\n",
        "        labels = labels.to(device)\n",
        "\n",
        "        # Forward pass\n",
        "        outputs = model(images)\n",
        "        loss = criterion(outputs, labels)\n",
        "\n",
        "        # Backward and optimize\n",
        "        optimizer.zero_grad()\n",
        "        loss.backward()\n",
        "        optimizer.step()\n",
        "\n",
        "\n",
        "        # Calculate accuracy\n",
        "        _, predicted = torch.max(outputs.data, 1)\n",
        "        total += labels.size(0)\n",
        "        correct += (predicted == labels).sum().item()\n",
        "        running_loss += loss.item()\n",
        "\n",
        "        if (i+1) % 100 == 0:\n",
        "            print(f'Epoch [{epoch+1}/{num_epochs}], Step [{i+1}/{total_steps}], '\n",
        "                  f'Loss: {loss.item():.4f}')\n",
        "\n",
        "    # Calculate epoch metrics\n",
        "    epoch_loss = running_loss / len(train_loader)\n",
        "    epoch_acc = 100 * correct / total\n",
        "\n",
        "    # Store metrics\n",
        "    train_losses.append(epoch_loss)\n",
        "    train_accuracies.append(epoch_acc)\n",
        "\n",
        "    print(f'Epoch [{epoch+1}/{num_epochs}], '\n",
        "          f'Loss: {epoch_loss:.4f}, '\n",
        "          f'Accuracy: {epoch_acc:.2f}%')"
      ],
      "metadata": {
        "id": "OwOVuiVZAVF9",
        "colab": {
          "base_uri": "https://localhost:8080/"
        },
        "outputId": "3b5094de-9b1a-4aa3-8d95-96f8b56180a2"
      },
      "execution_count": 56,
      "outputs": [
        {
          "output_type": "stream",
          "name": "stderr",
          "text": [
            "100%|██████████| 9.91M/9.91M [00:01<00:00, 6.06MB/s]\n",
            "100%|██████████| 28.9k/28.9k [00:00<00:00, 160kB/s]\n",
            "100%|██████████| 1.65M/1.65M [00:01<00:00, 1.51MB/s]\n",
            "100%|██████████| 4.54k/4.54k [00:00<00:00, 6.26MB/s]\n"
          ]
        },
        {
          "output_type": "stream",
          "name": "stdout",
          "text": [
            "Epoch [1/5], Step [100/600], Loss: 0.1833\n",
            "Epoch [1/5], Step [200/600], Loss: 0.1748\n",
            "Epoch [1/5], Step [300/600], Loss: 0.1384\n",
            "Epoch [1/5], Step [400/600], Loss: 0.1799\n",
            "Epoch [1/5], Step [500/600], Loss: 0.1148\n",
            "Epoch [1/5], Step [600/600], Loss: 0.0547\n",
            "Epoch [1/5], Loss: 0.2231, Accuracy: 93.41%\n",
            "Epoch [2/5], Step [100/600], Loss: 0.1135\n",
            "Epoch [2/5], Step [200/600], Loss: 0.0401\n",
            "Epoch [2/5], Step [300/600], Loss: 0.0613\n",
            "Epoch [2/5], Step [400/600], Loss: 0.1756\n",
            "Epoch [2/5], Step [500/600], Loss: 0.0566\n",
            "Epoch [2/5], Step [600/600], Loss: 0.1271\n",
            "Epoch [2/5], Loss: 0.0883, Accuracy: 97.33%\n",
            "Epoch [3/5], Step [100/600], Loss: 0.0508\n",
            "Epoch [3/5], Step [200/600], Loss: 0.0204\n",
            "Epoch [3/5], Step [300/600], Loss: 0.0350\n",
            "Epoch [3/5], Step [400/600], Loss: 0.0227\n",
            "Epoch [3/5], Step [500/600], Loss: 0.0850\n",
            "Epoch [3/5], Step [600/600], Loss: 0.0376\n",
            "Epoch [3/5], Loss: 0.0582, Accuracy: 98.19%\n",
            "Epoch [4/5], Step [100/600], Loss: 0.0688\n",
            "Epoch [4/5], Step [200/600], Loss: 0.0591\n",
            "Epoch [4/5], Step [300/600], Loss: 0.0519\n",
            "Epoch [4/5], Step [400/600], Loss: 0.0129\n",
            "Epoch [4/5], Step [500/600], Loss: 0.0281\n",
            "Epoch [4/5], Step [600/600], Loss: 0.0445\n",
            "Epoch [4/5], Loss: 0.0421, Accuracy: 98.64%\n",
            "Epoch [5/5], Step [100/600], Loss: 0.0331\n",
            "Epoch [5/5], Step [200/600], Loss: 0.0651\n",
            "Epoch [5/5], Step [300/600], Loss: 0.0550\n",
            "Epoch [5/5], Step [400/600], Loss: 0.0102\n",
            "Epoch [5/5], Step [500/600], Loss: 0.0292\n",
            "Epoch [5/5], Step [600/600], Loss: 0.0831\n",
            "Epoch [5/5], Loss: 0.0321, Accuracy: 98.94%\n"
          ]
        }
      ]
    },
    {
      "cell_type": "code",
      "source": [
        "# Test the model\n",
        "model.eval()\n",
        "with torch.no_grad():\n",
        "    correct = 0\n",
        "    total = 0\n",
        "    for images, labels in test_loader:\n",
        "        images = images.reshape(-1, 28*28).to(device)\n",
        "        labels = labels.to(device)\n",
        "        outputs = model(images)\n",
        "        _, predicted = torch.max(outputs.data, 1)\n",
        "        total += labels.size(0)\n",
        "        correct += (predicted == labels).sum().item()\n",
        "\n",
        "    print(f'Accuracy of the network on the 10000 test images: {100 * correct / total:.2f}%')\n",
        "\n",
        "# Plotting training metrics\n",
        "plt.figure(figsize=(12, 4))\n",
        "\n",
        "# Plot loss\n",
        "plt.subplot(1, 2, 1)\n",
        "plt.plot(train_losses, label='Training Loss')\n",
        "plt.title('Training Loss over Epochs')\n",
        "plt.xlabel('Epoch')\n",
        "plt.ylabel('Loss')\n",
        "plt.legend()\n",
        "\n",
        "# Plot accuracy\n",
        "plt.subplot(1, 2, 2)\n",
        "plt.plot(train_accuracies, label='Training Accuracy')\n",
        "plt.title('Training Accuracy over Epochs')\n",
        "plt.xlabel('Epoch')\n",
        "plt.ylabel('Accuracy (%)')\n",
        "plt.legend()\n",
        "\n",
        "plt.tight_layout()\n",
        "plt.show()\n",
        "\n",
        "# Save the model\n",
        "torch.save(model.state_dict(), 'mnist_ffn.pth')"
      ],
      "metadata": {
        "colab": {
          "base_uri": "https://localhost:8080/",
          "height": 240
        },
        "id": "JjM1t9Y4BdRW",
        "outputId": "72e23eb8-3b4c-4114-a0a5-b23335384f87"
      },
      "execution_count": 57,
      "outputs": [
        {
          "output_type": "stream",
          "name": "stdout",
          "text": [
            "Accuracy of the network on the 10000 test images: 97.80%\n"
          ]
        },
        {
          "output_type": "display_data",
          "data": {
            "text/plain": [
              "<Figure size 1200x400 with 2 Axes>"
            ],
            "image/png": "[encoded data removed]"
          },
          "metadata": {}
        }
      ]
    },
    {
      "cell_type": "markdown",
      "source": [
        "# Exercise: FashionMNIST"
      ],
      "metadata": {
        "id": "6Mxj9QF6Fi-l"
      }
    },
    {
      "cell_type": "code",
      "source": [
        "import torch\n",
        "import torch.nn as nn\n",
        "import torchvision\n",
        "import torchvision.transforms as transforms\n",
        "from torch.utils.data import DataLoader\n",
        "import matplotlib.pyplot as plt"
      ],
      "metadata": {
        "id": "ZFcXAGLGP6Zx"
      },
      "execution_count": 58,
      "outputs": []
    },
    {
      "cell_type": "code",
      "source": [
        "# Hyperparameter\n",
        "batch_size = 100\n",
        "\n",
        "# Data Loader\n",
        "# FashionMNIST Classes\n",
        "classes = ['T-shirt/top', 'Trouser', 'Pullover', 'Dress', 'Coat',\n",
        "           'Sandal', 'Shirt', 'Sneaker', 'Bag', 'Ankle boot']\n",
        "\n",
        "# FashionMNIST dataset\n",
        "transform = transforms.Compose([\n",
        "    transforms.ToTensor(),\n",
        "    transforms.Normalize((0.2860,), (0.3530,))  # FashionMNIST mean and std\n",
        "])\n",
        "\n",
        "train_dataset = torchvision.datasets.FashionMNIST(\n",
        "    root='./data',\n",
        "    train=True,\n",
        "    transform=transform,\n",
        "    download=True\n",
        ")\n",
        "\n",
        "test_dataset = torchvision.datasets.FashionMNIST(\n",
        "    root='./data',\n",
        "    train=False,\n",
        "    transform=transform\n",
        ")\n",
        "\n",
        "# Data loader\n",
        "train_loader = DataLoader(\n",
        "    dataset=train_dataset,\n",
        "    batch_size=batch_size,\n",
        "    shuffle=True\n",
        ")\n",
        "\n",
        "test_loader = DataLoader(\n",
        "    dataset=test_dataset,\n",
        "    batch_size=batch_size,\n",
        "    shuffle=False\n",
        ")"
      ],
      "metadata": {
        "id": "TLQ1tJi2Ll__",
        "colab": {
          "base_uri": "https://localhost:8080/"
        },
        "outputId": "c85b63fc-457d-467c-92c7-65307c5c87a4"
      },
      "execution_count": 59,
      "outputs": [
        {
          "output_type": "stream",
          "name": "stderr",
          "text": [
            "100%|██████████| 26.4M/26.4M [00:03<00:00, 8.27MB/s]\n",
            "100%|██████████| 29.5k/29.5k [00:00<00:00, 140kB/s]\n",
            "100%|██████████| 4.42M/4.42M [00:01<00:00, 2.56MB/s]\n",
            "100%|██████████| 5.15k/5.15k [00:00<00:00, 13.0MB/s]\n"
          ]
        }
      ]
    },
    {
      "cell_type": "code",
      "source": [
        "# Visualize data\n",
        "def imshow(img):\n",
        "    img = img / 2 + 0.5  # unnormalize\n",
        "    plt.imshow(img.squeeze(), cmap='gray')\n",
        "\n",
        "# Get some random train images\n",
        "dataiter = iter(train_loader)\n",
        "images, labels = next(dataiter)\n",
        "\n",
        "# Print images\n",
        "plt.figure(figsize=(10, 10))\n",
        "for i in range(9):\n",
        "    plt.subplot(3, 3, i + 1)\n",
        "    imshow(images[i])"
      ],
      "metadata": {
        "colab": {
          "base_uri": "https://localhost:8080/",
          "height": 642
        },
        "id": "-kFMy1cyMWpK",
        "outputId": "2f1a9e75-3cbf-4af4-c372-529a5c350cff"
      },
      "execution_count": 62,
      "outputs": [
        {
          "output_type": "display_data",
          "data": {
            "text/plain": [
              "<Figure size 1000x1000 with 9 Axes>"
            ],
            "image/png": "[encoded data removed]"
          },
          "metadata": {}
        }
      ]
    },
    {
      "cell_type": "markdown",
      "source": [
        "Model Part\n",
        "- Exercise: Update this code\n",
        "- Feel free to add more layers"
      ],
      "metadata": {
        "id": "riV1V2dRL_Jh"
      }
    },
    {
      "cell_type": "code",
      "source": [
        "# Hyperparameters\n",
        "input_size = 784  # 28x28\n",
        "hidden_size1 = 850\n",
        "hidden_size2 = 550\n",
        "num_classes = 9\n",
        "learning_rate = 0.001 # something very small\n",
        "num_epochs = 5\n",
        "\n",
        "# Feedforward Neural Network\n",
        "class NeuralNet(nn.Module):\n",
        "    def __init__(self, input_size, hidden_size1, hidden_size2, num_classes):\n",
        "        super(NeuralNet, self).__init__()\n",
        "        self.fc1 = nn.Linear(input_size, hidden_size1)\n",
        "        self.relu = nn.ReLU()\n",
        "        self.fc2 = nn.Linear(hidden_size1, hidden_size2)\n",
        "        self.fc3 = nn.Linear(hidden_size2, num_classes)\n",
        "\n",
        "    def forward(self, x):\n",
        "        out = self.fc1(x)\n",
        "        # Update here too!\n",
        "        return out\n",
        "\n",
        "model = NeuralNet(input_size, hidden_size1, hidden_size2, num_classes).to(device)\n",
        "print(model)"
      ],
      "metadata": {
        "id": "opK57W1QKZ1r",
        "colab": {
          "base_uri": "https://localhost:8080/"
        },
        "outputId": "bc0dd338-cb91-4280-d7f2-62af8a6027cf"
      },
      "execution_count": 63,
      "outputs": [
        {
          "output_type": "stream",
          "name": "stdout",
          "text": [
            "NeuralNet(\n",
            "  (fc1): Linear(in_features=784, out_features=850, bias=True)\n",
            "  (relu): ReLU()\n",
            "  (fc2): Linear(in_features=850, out_features=550, bias=True)\n",
            "  (fc3): Linear(in_features=550, out_features=9, bias=True)\n",
            ")\n"
          ]
        }
      ]
    },
    {
      "cell_type": "markdown",
      "source": [
        "Training Part"
      ],
      "metadata": {
        "id": "NYJzvMrNL96x"
      }
    },
    {
      "cell_type": "code",
      "source": [
        "# Loss and optimizer\n",
        "criterion = nn.CrossEntropyLoss()\n",
        "optimizer = torch.optim.Adam(model.parameters(), lr=learning_rate)\n",
        "\n",
        "# Lists to store metrics\n",
        "train_losses = []\n",
        "train_accuracies = []\n",
        "\n",
        "# Training loop\n",
        "total_steps = len(train_loader)\n",
        "for epoch in range(num_epochs):\n",
        "    running_loss = 0.0\n",
        "    correct = 0\n",
        "    total = 0\n",
        "\n",
        "    for i, (images, labels) in enumerate(train_loader):\n",
        "        # Reshape images to (batch_size, input_size)\n",
        "        images = images.reshape(-1, 28*28).to(device)\n",
        "        labels = labels.to(device)\n",
        "\n",
        "        # Forward pass\n",
        "        outputs = model(images)\n",
        "        loss = criterion(outputs, labels)\n",
        "\n",
        "        # Backward and optimize\n",
        "        optimizer.zero_grad()\n",
        "        loss.backward()\n",
        "        optimizer.step()\n",
        "\n",
        "        # Calculate accuracy\n",
        "        _, predicted = torch.max(outputs.data, 1)\n",
        "        total += labels.size(0)\n",
        "        correct += (predicted == labels).sum().item()\n",
        "        running_loss += loss.item()\n",
        "\n",
        "        if (i+1) % 100 == 0:\n",
        "            print(f'Epoch [{epoch+1}/{num_epochs}], Step [{i+1}/{total_steps}], '\n",
        "                  f'Loss: {loss.item():.4f}')\n",
        "\n",
        "    # Calculate epoch metrics\n",
        "    epoch_loss = running_loss / len(train_loader)\n",
        "    epoch_acc = 100 * correct / total\n",
        "\n",
        "    # Store metrics\n",
        "    train_losses.append(epoch_loss)\n",
        "    train_accuracies.append(epoch_acc)\n",
        "\n",
        "    print(f'Epoch [{epoch+1}/{num_epochs}], '\n",
        "          f'Loss: {epoch_loss:.4f}, '\n",
        "          f'Accuracy: {epoch_acc:.2f}%')"
      ],
      "metadata": {
        "id": "HtgPYfFcL9Ux",
        "colab": {
          "base_uri": "https://localhost:8080/"
        },
        "outputId": "069b9059-1baa-4141-953b-12a505e6e4b4"
      },
      "execution_count": 64,
      "outputs": [
        {
          "output_type": "stream",
          "name": "stdout",
          "text": [
            "Epoch [1/5], Step [100/600], Loss: 0.6523\n",
            "Epoch [1/5], Step [200/600], Loss: 0.7190\n",
            "Epoch [1/5], Step [300/600], Loss: 0.4940\n",
            "Epoch [1/5], Step [400/600], Loss: 0.5622\n",
            "Epoch [1/5], Step [500/600], Loss: 0.5327\n",
            "Epoch [1/5], Step [600/600], Loss: 0.4433\n",
            "Epoch [1/5], Loss: 0.5954, Accuracy: 80.68%\n",
            "Epoch [2/5], Step [100/600], Loss: 0.6925\n",
            "Epoch [2/5], Step [200/600], Loss: 0.4822\n",
            "Epoch [2/5], Step [300/600], Loss: 0.3536\n",
            "Epoch [2/5], Step [400/600], Loss: 0.4584\n",
            "Epoch [2/5], Step [500/600], Loss: 0.4118\n",
            "Epoch [2/5], Step [600/600], Loss: 0.5601\n",
            "Epoch [2/5], Loss: 0.4469, Accuracy: 84.47%\n",
            "Epoch [3/5], Step [100/600], Loss: 0.4286\n",
            "Epoch [3/5], Step [200/600], Loss: 0.3322\n",
            "Epoch [3/5], Step [300/600], Loss: 0.5074\n",
            "Epoch [3/5], Step [400/600], Loss: 0.4875\n",
            "Epoch [3/5], Step [500/600], Loss: 0.4710\n",
            "Epoch [3/5], Step [600/600], Loss: 0.4691\n",
            "Epoch [3/5], Loss: 0.4289, Accuracy: 85.09%\n",
            "Epoch [4/5], Step [100/600], Loss: 0.3376\n",
            "Epoch [4/5], Step [200/600], Loss: 0.4623\n",
            "Epoch [4/5], Step [300/600], Loss: 0.4655\n",
            "Epoch [4/5], Step [400/600], Loss: 0.4659\n",
            "Epoch [4/5], Step [500/600], Loss: 0.2615\n",
            "Epoch [4/5], Step [600/600], Loss: 0.3435\n",
            "Epoch [4/5], Loss: 0.4195, Accuracy: 85.38%\n",
            "Epoch [5/5], Step [100/600], Loss: 0.5799\n",
            "Epoch [5/5], Step [200/600], Loss: 0.3971\n",
            "Epoch [5/5], Step [300/600], Loss: 0.4968\n",
            "Epoch [5/5], Step [400/600], Loss: 0.5288\n",
            "Epoch [5/5], Step [500/600], Loss: 0.3732\n",
            "Epoch [5/5], Step [600/600], Loss: 0.4013\n",
            "Epoch [5/5], Loss: 0.4115, Accuracy: 85.61%\n"
          ]
        }
      ]
    },
    {
      "cell_type": "markdown",
      "source": [
        "Testing Part"
      ],
      "metadata": {
        "id": "3mfP1CNglvSP"
      }
    },
    {
      "cell_type": "code",
      "source": [
        "# Test the model\n",
        "model.eval()\n",
        "class_correct = list(0. for i in range(10))\n",
        "class_total = list(0. for i in range(10))\n",
        "\n",
        "with torch.no_grad():\n",
        "    correct = 0\n",
        "    total = 0\n",
        "    for images, labels in test_loader:\n",
        "        images = images.reshape(-1, 28*28).to(device)\n",
        "        labels = labels.to(device)\n",
        "        outputs = model(images)\n",
        "        _, predicted = torch.max(outputs.data, 1)\n",
        "        total += labels.size(0)\n",
        "        correct += (predicted == labels).sum().item()\n",
        "\n",
        "        # Calculate per-class accuracy\n",
        "        c = (predicted == labels).squeeze()\n",
        "        for i in range(len(labels)):\n",
        "            label = labels[i]\n",
        "            class_correct[label] += c[i].item()\n",
        "            class_total[label] += 1\n",
        "\n",
        "    print(f'Overall Accuracy of the network on the test images: {100 * correct / total:.2f}%')\n",
        "\n",
        "    # Print accuracy for each class\n",
        "    for i in range(10):\n",
        "        print(f'Accuracy of {classes[i]}: {100 * class_correct[i] / class_total[i]:.2f}%')\n",
        "\n",
        "# Plotting training metrics\n",
        "plt.figure(figsize=(12, 4))\n",
        "\n",
        "# Plot loss\n",
        "plt.subplot(1, 2, 1)\n",
        "plt.plot(train_losses, label='Training Loss')\n",
        "plt.title('Training Loss over Epochs')\n",
        "plt.xlabel('Epoch')\n",
        "plt.ylabel('Loss')\n",
        "plt.legend()\n",
        "\n",
        "# Plot accuracy\n",
        "plt.subplot(1, 2, 2)\n",
        "plt.plot(train_accuracies, label='Training Accuracy')\n",
        "plt.title('Training Accuracy over Epochs')\n",
        "plt.xlabel('Epoch')\n",
        "plt.ylabel('Accuracy (%)')\n",
        "plt.legend()\n",
        "\n",
        "plt.tight_layout()\n",
        "plt.show()"
      ],
      "metadata": {
        "id": "Z3bVTLEkKeVz",
        "colab": {
          "base_uri": "https://localhost:8080/",
          "height": 410
        },
        "outputId": "d666de1a-07b9-4932-c931-f3bb97b3c3af"
      },
      "execution_count": 65,
      "outputs": [
        {
          "output_type": "stream",
          "name": "stdout",
          "text": [
            "Overall Accuracy of the network on the test images: 84.16%\n",
            "Accuracy of T-shirt/top: 85.50%\n",
            "Accuracy of Trouser: 95.50%\n",
            "Accuracy of Pullover: 74.40%\n",
            "Accuracy of Dress: 86.40%\n",
            "Accuracy of Coat: 74.70%\n",
            "Accuracy of Sandal: 92.40%\n",
            "Accuracy of Shirt: 50.90%\n",
            "Accuracy of Sneaker: 91.80%\n",
            "Accuracy of Bag: 94.60%\n",
            "Accuracy of Ankle boot: 95.40%\n"
          ]
        },
        {
          "output_type": "display_data",
          "data": {
            "text/plain": [
              "<Figure size 1200x400 with 2 Axes>"
            ],
            "image/png": "[encoded data removed]"
          },
          "metadata": {}
        }
      ]
    },
    {
      "cell_type": "markdown",
      "source": [
        "Visualization"
      ],
      "metadata": {
        "id": "LyPYDsyRlwic"
      }
    },
    {
      "cell_type": "code",
      "source": [
        "# Visualize some predictions\n",
        "def imshow(img):\n",
        "    img = img / 2 + 0.5  # unnormalize\n",
        "    plt.imshow(img.squeeze(), cmap='gray')\n",
        "\n",
        "# Get some random test images\n",
        "dataiter = iter(test_loader)\n",
        "images, labels = next(dataiter)\n",
        "\n",
        "# Print images\n",
        "plt.figure(figsize=(10, 10))\n",
        "for i in range(9):\n",
        "    plt.subplot(3, 3, i + 1)\n",
        "    imshow(images[i])\n",
        "\n",
        "    # Get predictions\n",
        "    image = images[i].reshape(-1, 28*28).to(device)\n",
        "    with torch.no_grad():\n",
        "        output = model(image)\n",
        "        _, predicted = torch.max(output, 1)\n",
        "\n",
        "    plt.title(f'Pred: {classes[predicted[0]]}\\nTrue: {classes[labels[i]]}')\n",
        "    plt.axis('off')\n",
        "\n",
        "plt.tight_layout()\n",
        "plt.show()"
      ],
      "metadata": {
        "id": "5IoFYQPCKs8T",
        "colab": {
          "base_uri": "https://localhost:8080/",
          "height": 676
        },
        "outputId": "501bfb39-21b6-4376-9539-04f4140a3267"
      },
      "execution_count": 66,
      "outputs": [
        {
          "output_type": "display_data",
          "data": {
            "text/plain": [
              "<Figure size 1000x1000 with 9 Axes>"
            ],
            "image/png": "[encoded data removed]"
          },
          "metadata": {}
        }
      ]
    }
  ]
}